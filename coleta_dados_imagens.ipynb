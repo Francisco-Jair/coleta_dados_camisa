{
 "cells": [
  {
   "cell_type": "code",
   "execution_count": 1,
   "id": "4cae3b4f",
   "metadata": {},
   "outputs": [],
   "source": [
    "import requests\n",
    "from bs4 import BeautifulSoup\n",
    "import pandas as pd\n",
    "import time\n",
    "import random"
   ]
  },
  {
   "cell_type": "code",
   "execution_count": 66,
   "id": "98bfc1db",
   "metadata": {},
   "outputs": [],
   "source": [
    "df = pd.DataFrame(columns=[\"descricao\", \"link_para_publicacao\", \"link_para_camisa\"])"
   ]
  },
  {
   "cell_type": "code",
   "execution_count": 67,
   "id": "1e679b12",
   "metadata": {},
   "outputs": [],
   "source": [
    "#url = \"https://kuli007.x.yupoo.com/categories\""
   ]
  },
  {
   "cell_type": "code",
   "execution_count": 68,
   "id": "215ce8ce",
   "metadata": {},
   "outputs": [],
   "source": [
    "#site = requests.get(url)"
   ]
  },
  {
   "cell_type": "code",
   "execution_count": 69,
   "id": "dc60a9b7",
   "metadata": {},
   "outputs": [],
   "source": [
    "#soup = BeautifulSoup(site.content, 'html.parser')"
   ]
  },
  {
   "cell_type": "code",
   "execution_count": 70,
   "id": "a3a209f8",
   "metadata": {},
   "outputs": [],
   "source": [
    "#dados_camisas = soup.find(class_=\"categories__parent\")"
   ]
  },
  {
   "cell_type": "code",
   "execution_count": 71,
   "id": "fef56f65",
   "metadata": {},
   "outputs": [],
   "source": [
    "#dados_camisas_todas = dados_camisas.find_all(class_=\"categories__children\")"
   ]
  },
  {
   "cell_type": "code",
   "execution_count": 72,
   "id": "f4d91606",
   "metadata": {
    "scrolled": true
   },
   "outputs": [],
   "source": [
    "# dados_camisas_todas[0].find('a').find(\"img\").attrs[\"data-src\"].split(\"//\")[-1]"
   ]
  },
  {
   "cell_type": "code",
   "execution_count": 73,
   "id": "451ee7a0",
   "metadata": {},
   "outputs": [
    {
     "name": "stdout",
     "output_type": "stream",
     "text": [
      "page - 1\n",
      "page - 2\n",
      "page - 3\n",
      "page - 4\n",
      "page - 5\n",
      "page - 6\n",
      "page - 7\n",
      "page - 8\n",
      "page - 9\n",
      "page - 10\n",
      "page - 11\n",
      "page - 12\n",
      "page - 13\n",
      "page - 14\n",
      "page - 15\n",
      "page - 16\n",
      "page - 17\n",
      "page - 18\n",
      "page - 19\n",
      "page - 20\n",
      "page - 21\n",
      "page - 22\n",
      "page - 23\n",
      "page - 24\n",
      "page - 25\n",
      "page - 26\n"
     ]
    }
   ],
   "source": [
    "for i in range(1, 27):\n",
    "    print(f\"page - {i}\")\n",
    "    url = f\"https://kuli007.x.yupoo.com/categories?page={i}\"\n",
    "    site = requests.get(url)\n",
    "    soup = BeautifulSoup(site.content, 'html.parser')\n",
    "    dados_camisas = soup.find(class_=\"categories__parent\")\n",
    "    dados_camisas_todas = dados_camisas.find_all(class_=\"categories__children\")\n",
    "    \n",
    "    for camisa in dados_camisas_todas:\n",
    "        itens = {\n",
    "            \"descricao\" : camisa.find(class_=\"album__title\").text,\n",
    "            \"link_para_publicacao\" : f\"https://kuli007.x.yupoo.com/categories{camisa.find('a').attrs['href']}\",\n",
    "            \"link_para_camisa\" : camisa.find('a').find(\"img\").attrs[\"data-src\"].split(\"//\")[-1]\n",
    "        }\n",
    "        df = pd.concat([df, pd.DataFrame.from_records([itens])], ignore_index=True)\n",
    "        df.to_csv(f\"captura_dados_camisa.csv\", index = False)\n",
    "        \n",
    "    time.sleep(30 + random.randint(-5, 5))"
   ]
  },
  {
   "cell_type": "code",
   "execution_count": 74,
   "id": "0f4bbe35",
   "metadata": {},
   "outputs": [],
   "source": [
    "# df.to_csv(f\"captura_dados_camisa.csv\", index = False)"
   ]
  },
  {
   "cell_type": "code",
   "execution_count": 75,
   "id": "b6a91418",
   "metadata": {},
   "outputs": [],
   "source": [
    "# Processar dados (Corrigir erro)"
   ]
  },
  {
   "cell_type": "code",
   "execution_count": 2,
   "id": "379f9024",
   "metadata": {},
   "outputs": [],
   "source": [
    "data = pd.read_csv(\"captura_dados_camisa.csv\")"
   ]
  },
  {
   "cell_type": "code",
   "execution_count": 5,
   "id": "fb306bfb",
   "metadata": {},
   "outputs": [
    {
     "data": {
      "text/plain": [
       "'photo.yupoo.com/kuli007/8431bac4/medium.jpeg'"
      ]
     },
     "execution_count": 5,
     "metadata": {},
     "output_type": "execute_result"
    }
   ],
   "source": [
    "data[\"link_para_camisa\"][0]"
   ]
  },
  {
   "cell_type": "code",
   "execution_count": null,
   "id": "5c3d8fcc",
   "metadata": {},
   "outputs": [],
   "source": []
  }
 ],
 "metadata": {
  "kernelspec": {
   "display_name": "pesquisa",
   "language": "python",
   "name": "pesquisa"
  },
  "language_info": {
   "codemirror_mode": {
    "name": "ipython",
    "version": 3
   },
   "file_extension": ".py",
   "mimetype": "text/x-python",
   "name": "python",
   "nbconvert_exporter": "python",
   "pygments_lexer": "ipython3",
   "version": "3.9.7"
  }
 },
 "nbformat": 4,
 "nbformat_minor": 5
}
