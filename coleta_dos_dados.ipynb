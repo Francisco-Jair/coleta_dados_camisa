{
 "cells": [
  {
   "cell_type": "code",
   "execution_count": 30,
   "id": "8be22ac6",
   "metadata": {},
   "outputs": [],
   "source": [
    "import requests\n",
    "from bs4 import BeautifulSoup\n",
    "import pandas as pd\n",
    "import os"
   ]
  },
  {
   "cell_type": "code",
   "execution_count": 55,
   "id": "de10e251",
   "metadata": {},
   "outputs": [],
   "source": [
    "dataset = pd.read_csv(\"captura_dados_camisa.csv\")[\"link_para_publicacao\"][14:50]"
   ]
  },
  {
   "cell_type": "code",
   "execution_count": 56,
   "id": "a3f34e41",
   "metadata": {},
   "outputs": [
    {
     "name": "stdout",
     "output_type": "stream",
     "text": [
      "https://kuli007.x.yupoo.com/albums/123048201?uid=1&isSubCate=false&referrercate=\n",
      "https://kuli007.x.yupoo.com/albums/122015416?uid=1&isSubCate=false&referrercate=\n",
      "https://kuli007.x.yupoo.com/albums/121834525?uid=1&isSubCate=false&referrercate=\n",
      "https://kuli007.x.yupoo.com/albums/121834264?uid=1&isSubCate=false&referrercate=\n",
      "https://kuli007.x.yupoo.com/albums/121834203?uid=1&isSubCate=false&referrercate=\n",
      "https://kuli007.x.yupoo.com/albums/121764656?uid=1&isSubCate=false&referrercate=\n",
      "https://kuli007.x.yupoo.com/albums/121764640?uid=1&isSubCate=false&referrercate=\n",
      "https://kuli007.x.yupoo.com/albums/121764599?uid=1&isSubCate=false&referrercate=\n",
      "https://kuli007.x.yupoo.com/albums/121764586?uid=1&isSubCate=false&referrercate=\n",
      "https://kuli007.x.yupoo.com/albums/121764572?uid=1&isSubCate=false&referrercate=\n",
      "https://kuli007.x.yupoo.com/albums/121764538?uid=1&isSubCate=false&referrercate=\n",
      "https://kuli007.x.yupoo.com/albums/121764510?uid=1&isSubCate=false&referrercate=\n",
      "https://kuli007.x.yupoo.com/albums/121663864?uid=1&isSubCate=false&referrercate=\n",
      "https://kuli007.x.yupoo.com/albums/121663840?uid=1&isSubCate=false&referrercate=\n",
      "https://kuli007.x.yupoo.com/albums/121568569?uid=1&isSubCate=false&referrercate=\n",
      "https://kuli007.x.yupoo.com/albums/121568530?uid=1&isSubCate=false&referrercate=\n",
      "https://kuli007.x.yupoo.com/albums/121568466?uid=1&isSubCate=false&referrercate=\n",
      "https://kuli007.x.yupoo.com/albums/121568424?uid=1&isSubCate=false&referrercate=\n",
      "https://kuli007.x.yupoo.com/albums/121459298?uid=1&isSubCate=false&referrercate=\n",
      "https://kuli007.x.yupoo.com/albums/121223849?uid=1&isSubCate=false&referrercate=\n",
      "https://kuli007.x.yupoo.com/albums/121223793?uid=1&isSubCate=false&referrercate=\n",
      "https://kuli007.x.yupoo.com/albums/121106554?uid=1&isSubCate=false&referrercate=\n",
      "https://kuli007.x.yupoo.com/albums/120975641?uid=1&isSubCate=false&referrercate=\n",
      "https://kuli007.x.yupoo.com/albums/120975638?uid=1&isSubCate=false&referrercate=\n",
      "https://kuli007.x.yupoo.com/albums/120975634?uid=1&isSubCate=false&referrercate=\n",
      "https://kuli007.x.yupoo.com/albums/120975625?uid=1&isSubCate=false&referrercate=\n",
      "https://kuli007.x.yupoo.com/albums/120975619?uid=1&isSubCate=false&referrercate=\n",
      "https://kuli007.x.yupoo.com/albums/120860476?uid=1&isSubCate=false&referrercate=\n",
      "https://kuli007.x.yupoo.com/albums/120860041?uid=1&isSubCate=false&referrercate=\n",
      "https://kuli007.x.yupoo.com/albums/120859993?uid=1&isSubCate=false&referrercate=\n",
      "https://kuli007.x.yupoo.com/albums/120697988?uid=1&isSubCate=false&referrercate=\n",
      "https://kuli007.x.yupoo.com/albums/120697930?uid=1&isSubCate=false&referrercate=\n",
      "https://kuli007.x.yupoo.com/albums/120697899?uid=1&isSubCate=false&referrercate=\n",
      "https://kuli007.x.yupoo.com/albums/120697857?uid=1&isSubCate=false&referrercate=\n",
      "https://kuli007.x.yupoo.com/albums/120367749?uid=1&isSubCate=false&referrercate=\n",
      "https://kuli007.x.yupoo.com/albums/120367692?uid=1&isSubCate=false&referrercate=\n"
     ]
    }
   ],
   "source": [
    "# len(dataset)\n",
    "for i in dataset:\n",
    "    print(i)"
   ]
  },
  {
   "cell_type": "code",
   "execution_count": 3,
   "id": "a7e077d9",
   "metadata": {},
   "outputs": [],
   "source": [
    "url = dataset[\"link_para_publicacao\"][1]"
   ]
  },
  {
   "cell_type": "code",
   "execution_count": 4,
   "id": "29bca63b",
   "metadata": {},
   "outputs": [],
   "source": [
    "page = requests.get(url)"
   ]
  },
  {
   "cell_type": "code",
   "execution_count": 6,
   "id": "fb2cea3b",
   "metadata": {},
   "outputs": [],
   "source": [
    "soup = BeautifulSoup(page.content, 'html.parser')"
   ]
  },
  {
   "cell_type": "code",
   "execution_count": 7,
   "id": "037a872a",
   "metadata": {},
   "outputs": [],
   "source": [
    "nome = soup.find('h2')"
   ]
  },
  {
   "cell_type": "code",
   "execution_count": 8,
   "id": "5301bb44",
   "metadata": {},
   "outputs": [],
   "source": [
    "def tratar_nome(nome):\n",
    "    return nome.replace(\"/\", \"-\")"
   ]
  },
  {
   "cell_type": "code",
   "execution_count": 9,
   "id": "d458fac3",
   "metadata": {},
   "outputs": [],
   "source": [
    "def downlaod_imagem():\n",
    "    pass"
   ]
  },
  {
   "cell_type": "code",
   "execution_count": 10,
   "id": "ccaa2d34",
   "metadata": {},
   "outputs": [],
   "source": [
    "a = tratar_nome(nome.text)"
   ]
  },
  {
   "cell_type": "code",
   "execution_count": 50,
   "id": "8ffb8645",
   "metadata": {},
   "outputs": [],
   "source": [
    "# os.makedirs(\"jair\")\n",
    "\n",
    "# for i in range(1000):\n",
    "#     if not os.path.exists(f\"jair{i}\"):\n",
    "#         os.makedirs(f\"jair{i}\")\n",
    "#         break"
   ]
  },
  {
   "cell_type": "code",
   "execution_count": 12,
   "id": "2340a328",
   "metadata": {},
   "outputs": [],
   "source": [
    "# pegar imagem\n",
    "all_imagem_page = soup.find_all(class_=\"showalbum__children image__main\")"
   ]
  },
  {
   "cell_type": "code",
   "execution_count": 15,
   "id": "c36ac5fb",
   "metadata": {},
   "outputs": [],
   "source": [
    "u = all_imagem_page[0].find(\"img\").attrs[\"data-origin-src\"]"
   ]
  },
  {
   "cell_type": "code",
   "execution_count": 20,
   "id": "c3dcc5f9",
   "metadata": {},
   "outputs": [
    {
     "name": "stdout",
     "output_type": "stream",
     "text": [
      "//photo.yupoo.com/kuli007/1982c560/8347e5b8.jpeg\n",
      "//photo.yupoo.com/kuli007/057ea10e/c7b0adf8.jpeg\n"
     ]
    }
   ],
   "source": [
    "for i in range(len(all_imagem_page)):\n",
    "    print(all_imagem_page[i].find(\"img\").attrs[\"data-origin-src\"])"
   ]
  },
  {
   "cell_type": "code",
   "execution_count": null,
   "id": "731c92b8",
   "metadata": {},
   "outputs": [],
   "source": [
    "# with open('pato.jpeg', 'wb') as imagem:\n",
    "#     resposta = requests.post(\"https://kuli007.x.yupoo.com/r/c/a?name=yupoo\")\n",
    "#     imagem.write(resposta.content)\n",
    "#     if not resposta.ok:\n",
    "#         print(\"Ocorreu um erro, status:\" , resposta.status_code)\n",
    "#     else:\n",
    "#         for dado in resposta.iter_content(1024):\n",
    "#             if not dado:\n",
    "#                 break\n",
    "\n",
    "#             imagem.write(dado)\n",
    "\n",
    "#         print(\"Imagem salva! =)\")"
   ]
  },
  {
   "cell_type": "code",
   "execution_count": null,
   "id": "5923d4de",
   "metadata": {},
   "outputs": [],
   "source": [
    "# resposta = requests.post(\"https://kuli007.x.yupoo.com/r/c/a?name=yupoo\", data={\n",
    "#   \"fp\": \"42ddb1b0cad61b344c41e3d5408b0204\",\n",
    "#   \"user_id\": 3134252,\n",
    "#   \"keyword\": \"\",\n",
    "#   \"referrer\": \"\",\n",
    "#   \"url\": \"https://kuli007.x.yupoo.com/albums/123751063?uid=1&tab=nor\",\n",
    "#   \"album_name\": \"22/23 Palmeiras s -2XL\",\n",
    "#   \"album_id\": 123751063,\n",
    "#   \"photo_name\": \"\",\n",
    "#   \"cate_name\": \"\",\n",
    "#   \"cate_id\": -1,\n",
    "#   \"username\": \"kuli007\",\n",
    "#   \"page_type\": 5,\n",
    "#   \"source_pc\": \"Other\"\n",
    "# }, headers = {\n",
    "#     \"accept\": \"text/javascript, text/html, application/xml, text/xml, */*\",\n",
    "#     \"accept-language\": \"pt-BR,pt;q=0.9,en;q=0.8,en-US;q=0.7\",\n",
    "#     \"cache-control\": \"no-cache\",\n",
    "#     \"content-type\": \"application/json\",\n",
    "#     \"pragma\": \"no-cache\",\n",
    "#     \"sec-ch-ua\": \"\\\"Google Chrome\\\";v=\\\"107\\\", \\\"Chromium\\\";v=\\\"107\\\", \\\"Not=A?Brand\\\";v=\\\"24\\\"\",\n",
    "#     \"sec-ch-ua-mobile\": \"?0\",\n",
    "#     \"sec-ch-ua-platform\": \"\\\"macOS\\\"\",\n",
    "#     \"sec-fetch-dest\": \"empty\",\n",
    "#     \"sec-fetch-mode\": \"cors\",\n",
    "#     \"sec-fetch-site\": \"same-origin\",\n",
    "#     \"x-requested-with\": \"XMLHttpRequest\",\n",
    "#     \"cookie\": \"_ga=GA1.1.1775217669.1666839504; Hm_lvt_28019b8719a5fff5b26dfb4079a63dab=1666839505; _ga_5S4FNBRMVK=GS1.1.1667533337.4.1.1667533341.0.0.0; _ga_JGT4SY3M91=GS1.1.1667745249.3.0.1667745252.57.0.0; Hm_lpvt_28019b8719a5fff5b26dfb4079a63dab=1667749763; _ga_XMN82VEYLV=GS1.1.1667745263.9.1.1667750865.0.0.0\",\n",
    "#     \"Referer\": \"https://kuli007.x.yupoo.com/albums/123751063?uid=1&tab=nor\",\n",
    "#     \"Referrer-Policy\": \"no-referrer-when-downgrade\"\n",
    "#   })"
   ]
  },
  {
   "cell_type": "code",
   "execution_count": null,
   "id": "49497d42",
   "metadata": {
    "scrolled": true
   },
   "outputs": [],
   "source": [
    "# resposta\n",
    "# resposta"
   ]
  },
  {
   "cell_type": "code",
   "execution_count": null,
   "id": "2c0d50d2",
   "metadata": {},
   "outputs": [],
   "source": []
  }
 ],
 "metadata": {
  "kernelspec": {
   "display_name": "pesquisa",
   "language": "python",
   "name": "pesquisa"
  },
  "language_info": {
   "codemirror_mode": {
    "name": "ipython",
    "version": 3
   },
   "file_extension": ".py",
   "mimetype": "text/x-python",
   "name": "python",
   "nbconvert_exporter": "python",
   "pygments_lexer": "ipython3",
   "version": "3.9.7"
  }
 },
 "nbformat": 4,
 "nbformat_minor": 5
}
